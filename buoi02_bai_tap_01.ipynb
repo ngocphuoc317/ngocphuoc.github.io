{
  "nbformat": 4,
  "nbformat_minor": 0,
  "metadata": {
    "colab": {
      "provenance": [],
      "authorship_tag": "ABX9TyPmhVT3yUrkKaDsDzrdJElk",
      "include_colab_link": true
    },
    "kernelspec": {
      "name": "python3",
      "display_name": "Python 3"
    },
    "language_info": {
      "name": "python"
    }
  },
  "cells": [
    {
      "cell_type": "markdown",
      "metadata": {
        "id": "view-in-github",
        "colab_type": "text"
      },
      "source": [
        "<a href=\"https://colab.research.google.com/github/ngocphuoc317/ngocphuoc.github.io/blob/main/buoi02_bai_tap_01.ipynb\" target=\"_parent\"><img src=\"https://colab.research.google.com/assets/colab-badge.svg\" alt=\"Open In Colab\"/></a>"
      ]
    },
    {
      "cell_type": "code",
      "execution_count": 8,
      "metadata": {
        "colab": {
          "base_uri": "https://localhost:8080/"
        },
        "id": "JvY8gaSYnCWT",
        "outputId": "a973f8a1-a5e6-4607-dc0f-b894c75fa31d"
      },
      "outputs": [
        {
          "output_type": "stream",
          "name": "stdout",
          "text": [
            "Hello Wworld\n"
          ]
        }
      ],
      "source": [
        "print('Hello Wworld')"
      ]
    },
    {
      "cell_type": "code",
      "source": [
        "#Future Value\n",
        "pv=100\n",
        "r=0.1\n",
        "n=7\n",
        "fv=pv*((1+(r))**n)\n",
        "print(round(fv,2))"
      ],
      "metadata": {
        "colab": {
          "base_uri": "https://localhost:8080/"
        },
        "id": "5gQU9tOxnqpr",
        "outputId": "14c1844c-b911-4959-89ba-6e6f1722644d"
      },
      "execution_count": 9,
      "outputs": [
        {
          "output_type": "stream",
          "name": "stdout",
          "text": [
            "194.87\n"
          ]
        }
      ]
    },
    {
      "cell_type": "code",
      "source": [
        "amount=100\n",
        "interest=10 #10%=0.01*10\n",
        "years=7\n",
        "future_value = amount*((1+(0.01*interest))**years)\n",
        "print(round(future_value,2))"
      ],
      "metadata": {
        "colab": {
          "base_uri": "https://localhost:8080/"
        },
        "id": "ts8I-h-pohdO",
        "outputId": "7823d206-48f9-4584-cf10-f1dcb0c16306"
      },
      "execution_count": 10,
      "outputs": [
        {
          "output_type": "stream",
          "name": "stdout",
          "text": [
            "194.87\n"
          ]
        }
      ]
    }
  ]
}