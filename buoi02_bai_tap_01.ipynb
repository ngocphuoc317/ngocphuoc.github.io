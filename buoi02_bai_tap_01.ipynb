{
  "nbformat": 4,
  "nbformat_minor": 0,
  "metadata": {
    "colab": {
      "provenance": [],
      "authorship_tag": "ABX9TyPTvybehA7i4r2xjOatCROU",
      "include_colab_link": true
    },
    "kernelspec": {
      "name": "python3",
      "display_name": "Python 3"
    },
    "language_info": {
      "name": "python"
    }
  },
  "cells": [
    {
      "cell_type": "markdown",
      "metadata": {
        "id": "view-in-github",
        "colab_type": "text"
      },
      "source": [
        "<a href=\"https://colab.research.google.com/github/ngocphuoc317/ngocphuoc.github.io/blob/main/buoi02_bai_tap_01.ipynb\" target=\"_parent\"><img src=\"https://colab.research.google.com/assets/colab-badge.svg\" alt=\"Open In Colab\"/></a>"
      ]
    },
    {
      "cell_type": "markdown",
      "source": [
        "Python 101"
      ],
      "metadata": {
        "id": "A7M3Fc-0xIVW"
      }
    },
    {
      "cell_type": "markdown",
      "source": [
        "## Ngôn ngữ Python\n"
      ],
      "metadata": {
        "id": "UNnEAIn0xQYi"
      }
    },
    {
      "cell_type": "code",
      "execution_count": 15,
      "metadata": {
        "colab": {
          "base_uri": "https://localhost:8080/"
        },
        "id": "JvY8gaSYnCWT",
        "outputId": "758c0dab-a816-44f0-ce43-415a5aedb5f8"
      },
      "outputs": [
        {
          "output_type": "stream",
          "name": "stdout",
          "text": [
            "Hello Wworld\n"
          ]
        }
      ],
      "source": [
        "print('Hello Wworld')"
      ]
    },
    {
      "cell_type": "code",
      "source": [
        "#Future Value\n",
        "pv=100\n",
        "r=0.1\n",
        "n=7\n",
        "fv=pv*((1+(r))**n)\n",
        "print(round(fv,2))"
      ],
      "metadata": {
        "colab": {
          "base_uri": "https://localhost:8080/"
        },
        "id": "5gQU9tOxnqpr",
        "outputId": "6cf45413-4825-4b46-e834-b00637caf9f4"
      },
      "execution_count": 16,
      "outputs": [
        {
          "output_type": "stream",
          "name": "stdout",
          "text": [
            "194.87\n"
          ]
        }
      ]
    },
    {
      "cell_type": "code",
      "source": [
        "amount=100\n",
        "interest=10 #10%=0.01*10\n",
        "years=7\n",
        "future_value = amount*((1+(0.01*interest))**years)\n",
        "print(round(future_value,2))"
      ],
      "metadata": {
        "colab": {
          "base_uri": "https://localhost:8080/"
        },
        "id": "ts8I-h-pohdO",
        "outputId": "da77a900-3431-43cd-d289-d7ef4f558118"
      },
      "execution_count": 17,
      "outputs": [
        {
          "output_type": "stream",
          "name": "stdout",
          "text": [
            "194.87\n"
          ]
        }
      ]
    },
    {
      "cell_type": "code",
      "source": [
        "#Python Variables\n",
        "x=2\n",
        "price=2.5\n",
        "word='Hello'\n",
        "word=\"Hello\"\n",
        "word='''Hello'''\n",
        "print(x,price,word)\n",
        "print(f'x={x,type(x)}, price={price,type(price)}, word={word,type(word)}')"
      ],
      "metadata": {
        "colab": {
          "base_uri": "https://localhost:8080/"
        },
        "id": "M7MgEQ-KpuV3",
        "outputId": "73e49d61-a3ce-40de-b6ee-fa2d693fddbe"
      },
      "execution_count": 18,
      "outputs": [
        {
          "output_type": "stream",
          "name": "stdout",
          "text": [
            "2 2.5 Hello\n",
            "x=(2, <class 'int'>), price=(2.5, <class 'float'>), word=('Hello', <class 'str'>)\n"
          ]
        }
      ]
    },
    {
      "cell_type": "code",
      "source": [
        "score=80\n",
        "if score>=60:\n",
        "  print(\"Pass\")"
      ],
      "metadata": {
        "colab": {
          "base_uri": "https://localhost:8080/"
        },
        "id": "KnJTELpxrInk",
        "outputId": "34cbbf55-ff3b-4ae6-b130-27fe7fdbbc6b"
      },
      "execution_count": 19,
      "outputs": [
        {
          "output_type": "stream",
          "name": "stdout",
          "text": [
            "Pass\n"
          ]
        }
      ]
    },
    {
      "cell_type": "code",
      "source": [
        "x = 2\n",
        "y = x + 1\n",
        "print(x,y)"
      ],
      "metadata": {
        "colab": {
          "base_uri": "https://localhost:8080/"
        },
        "id": "4xVi-s9Lrisf",
        "outputId": "6e812332-3ce9-4ee0-dae1-f1114e11c4f5"
      },
      "execution_count": 21,
      "outputs": [
        {
          "output_type": "stream",
          "name": "stdout",
          "text": [
            "2 3\n"
          ]
        }
      ]
    },
    {
      "cell_type": "code",
      "source": [
        "# comment\n",
        "from platform import python_version\n",
        "print(\"Python Version:\", python_version())"
      ],
      "metadata": {
        "colab": {
          "base_uri": "https://localhost:8080/"
        },
        "id": "WV2R1gcar0Z1",
        "outputId": "dd630468-1611-4da1-dc00-fb22597a6e58"
      },
      "execution_count": 22,
      "outputs": [
        {
          "output_type": "stream",
          "name": "stdout",
          "text": [
            "Python Version: 3.11.13\n"
          ]
        }
      ]
    },
    {
      "cell_type": "code",
      "source": [
        "x = \"Hello World\"\n",
        "print(x,type(x))\n",
        "x = 2\n",
        "print(x,type(x))\n",
        "x = 2.5\n",
        "print(x,type(x))\n",
        "x = 7j\n",
        "print(x,type(x))"
      ],
      "metadata": {
        "colab": {
          "base_uri": "https://localhost:8080/"
        },
        "id": "mBbwmJlVsGJB",
        "outputId": "d784bcc5-5fc4-4795-822a-eafa29fc28c2"
      },
      "execution_count": 26,
      "outputs": [
        {
          "output_type": "stream",
          "name": "stdout",
          "text": [
            "Hello World <class 'str'>\n",
            "2 <class 'int'>\n",
            "2.5 <class 'float'>\n",
            "7j <class 'complex'>\n"
          ]
        }
      ]
    },
    {
      "cell_type": "markdown",
      "source": [
        "## Cấu trúc dữ liệu"
      ],
      "metadata": {
        "id": "Vx0PqmZDxlIh"
      }
    },
    {
      "cell_type": "code",
      "source": [
        "x = [\"apple\", \"banana\", \"cherry\"] #líst\n",
        "x.append(\"hello\")\n",
        "print(x, type(x), x[1:3])\n",
        "\n",
        "x = (\"apple\", \"banana\", \"cherry\") #tuple\n",
        "# x.append(\"hello\")\n",
        "x = (\"apple\", \"banana\", \"cherry\", \"hello\")\n",
        "print(x, type(x), x[1:3])\n",
        "\n",
        "x = {\"name\" : \"Tom\", \"age\" : 20} #dict\n",
        "print(x, type(x), x['name'], x['age'])\n",
        "\n",
        "x = {\"apple\", \"banana\", \"cherry\"} #set\n",
        "x.add('hello')\n",
        "print(x,type(x))\n",
        "\n",
        "x = frozenset({\"apple\", \"banana\", \"cherry\"})\n",
        "print(x,type(x))"
      ],
      "metadata": {
        "colab": {
          "base_uri": "https://localhost:8080/"
        },
        "id": "gA9-MEHjszzf",
        "outputId": "51c0bb4a-f45e-4e83-dd92-d35d1c88efa2"
      },
      "execution_count": 78,
      "outputs": [
        {
          "output_type": "stream",
          "name": "stdout",
          "text": [
            "['apple', 'banana', 'cherry', 'hello'] <class 'list'> ['banana', 'cherry']\n",
            "('apple', 'banana', 'cherry', 'hello') <class 'tuple'> ('banana', 'cherry')\n",
            "{'name': 'Tom', 'age': 20} <class 'dict'> Tom 20\n",
            "{'apple', 'hello', 'banana', 'cherry'} <class 'set'>\n",
            "frozenset({'apple', 'banana', 'cherry'}) <class 'frozenset'>\n"
          ]
        }
      ]
    },
    {
      "cell_type": "code",
      "source": [
        "x = True #bool\n",
        "print(x,type(x))\n",
        "x = b\"Hello\" #bytes\n",
        "print(x,type(x))\n",
        "x = bytearray(5) #bytearray\n",
        "print(x,type(x))\n",
        "x = memoryview(bytes(5)) #memoryview\n",
        "print(x,type(x), hex(id(x)))\n",
        "x = None #NoneType\n",
        "print(x,type(x))"
      ],
      "metadata": {
        "colab": {
          "base_uri": "https://localhost:8080/"
        },
        "id": "Ng9w1dvCtWVu",
        "outputId": "e95a2af4-848a-479b-9224-ef36fa69b936"
      },
      "execution_count": 36,
      "outputs": [
        {
          "output_type": "stream",
          "name": "stdout",
          "text": [
            "True <class 'bool'>\n",
            "b'Hello' <class 'bytes'>\n",
            "bytearray(b'\\x00\\x00\\x00\\x00\\x00') <class 'bytearray'>\n",
            "<memory at 0x7d3e04f0e740> <class 'memoryview'> 0x7d3e04f0e740\n",
            "None <class 'NoneType'>\n"
          ]
        }
      ]
    },
    {
      "cell_type": "code",
      "source": [
        "x = str(3) # x will be '3'\n",
        "y = int(3) # y will be 3\n",
        "z = float(3) # z will be 3.0\n",
        "print(x, type(x))\n",
        "print(y, type(y))\n",
        "print(z, type(z))\n"
      ],
      "metadata": {
        "colab": {
          "base_uri": "https://localhost:8080/"
        },
        "id": "cRzLpYtQysNP",
        "outputId": "8e8c44aa-6563-47a1-f52c-174aaace8958"
      },
      "execution_count": 37,
      "outputs": [
        {
          "output_type": "stream",
          "name": "stdout",
          "text": [
            "3 <class 'str'>\n",
            "3 <class 'int'>\n",
            "3.0 <class 'float'>\n"
          ]
        }
      ]
    },
    {
      "cell_type": "code",
      "source": [
        "x = 2 # int\n",
        "y = 3.4 # float\n",
        "z = 7j #complex\n",
        "print(x, type(x))\n",
        "print(y, type(y))\n",
        "print(z, type(z))"
      ],
      "metadata": {
        "colab": {
          "base_uri": "https://localhost:8080/"
        },
        "id": "pQ1aBxaVy7uO",
        "outputId": "5e9521b2-b278-4b8b-ebd5-2e3bf351fd4c"
      },
      "execution_count": 38,
      "outputs": [
        {
          "output_type": "stream",
          "name": "stdout",
          "text": [
            "2 <class 'int'>\n",
            "3.4 <class 'float'>\n",
            "7j <class 'complex'>\n"
          ]
        }
      ]
    },
    {
      "cell_type": "code",
      "source": [
        "print('7 + 2 =', 7 + 2)\n",
        "print('7 - 2 =', 7 - 2)\n",
        "print('7 * 2 =', 7 * 2)\n",
        "print('7 / 2 =', 7 / 2)\n",
        "print('7 // 2 =', 7 // 2)\n",
        "print('7 % 2 =', 7 % 2)\n",
        "print('7 ** 2 =', 7 ** 2)"
      ],
      "metadata": {
        "colab": {
          "base_uri": "https://localhost:8080/"
        },
        "id": "h9royCULzCMq",
        "outputId": "684bfa6a-53ad-40e2-8914-127cb9b5e51b"
      },
      "execution_count": 39,
      "outputs": [
        {
          "output_type": "stream",
          "name": "stdout",
          "text": [
            "7 + 2 = 9\n",
            "7 - 2 = 5\n",
            "7 * 2 = 14\n",
            "7 / 2 = 3.5\n",
            "7 // 2 = 3\n",
            "7 % 2 = 1\n",
            "7 ** 2 = 49\n"
          ]
        }
      ]
    },
    {
      "cell_type": "code",
      "source": [
        "# Python Booleans: True or False\n",
        "print(3 > 2)\n",
        "print(3 == 2)\n",
        "print(3 < 2)\n"
      ],
      "metadata": {
        "colab": {
          "base_uri": "https://localhost:8080/"
        },
        "id": "EO2QgGdxzJlB",
        "outputId": "1b20de38-a112-4ec3-da9b-4c41c2cb6e8b"
      },
      "execution_count": 41,
      "outputs": [
        {
          "output_type": "stream",
          "name": "stdout",
          "text": [
            "True\n",
            "False\n",
            "False\n"
          ]
        }
      ]
    },
    {
      "cell_type": "code",
      "source": [
        "# BMI Calculator in Python\n",
        "height_cm = 170\n",
        "weight_kg = 60\n",
        "height_m = height_cm/100\n",
        "BMI = (weight_kg/(height_m**2))\n",
        "print(\"Your BMI is: \" ,round(BMI,1))"
      ],
      "metadata": {
        "colab": {
          "base_uri": "https://localhost:8080/"
        },
        "id": "FvFbg8n1zoYE",
        "outputId": "bfbe0aea-61dd-4bde-d7fa-26f9990476b1"
      },
      "execution_count": 42,
      "outputs": [
        {
          "output_type": "stream",
          "name": "stdout",
          "text": [
            "Your BMI is:  20.8\n"
          ]
        }
      ]
    },
    {
      "cell_type": "code",
      "source": [
        "# How much is your $100 worth after 7 years?\n",
        "fv = 100 * 1.1 ** 7\n",
        "print('fv = ', round(fv, 2))\n",
        "# output = 194.87"
      ],
      "metadata": {
        "colab": {
          "base_uri": "https://localhost:8080/"
        },
        "id": "u0PoSkNqz1s9",
        "outputId": "de7bb386-f26e-48c1-920d-d5877c2162f1"
      },
      "execution_count": 43,
      "outputs": [
        {
          "output_type": "stream",
          "name": "stdout",
          "text": [
            "fv =  194.87\n"
          ]
        }
      ]
    },
    {
      "cell_type": "code",
      "source": [
        "# Future Value\n",
        "pv = 100\n",
        "r = 0.1\n",
        "n = 7\n",
        "fv = pv * ((1 + (r)) ** n)\n",
        "print(round(fv, 2))"
      ],
      "metadata": {
        "colab": {
          "base_uri": "https://localhost:8080/"
        },
        "id": "36RwqXyPz9vH",
        "outputId": "f8aa95f0-3584-44bb-b267-ff9b72095a33"
      },
      "execution_count": 44,
      "outputs": [
        {
          "output_type": "stream",
          "name": "stdout",
          "text": [
            "194.87\n"
          ]
        }
      ]
    },
    {
      "cell_type": "code",
      "source": [
        "# Future Value\n",
        "amount = 100\n",
        "interest = 10 #10% = 0.01 * 10\n",
        "years = 7\n",
        "future_value = amount * ((1 + (0.01 * interest)) ** years)\n",
        "print(round(future_value, 2))\n"
      ],
      "metadata": {
        "colab": {
          "base_uri": "https://localhost:8080/"
        },
        "id": "eWfJuzINz_SC",
        "outputId": "c17cf511-012c-436c-feef-b9e66b5c9225"
      },
      "execution_count": 45,
      "outputs": [
        {
          "output_type": "stream",
          "name": "stdout",
          "text": [
            "194.87\n"
          ]
        }
      ]
    },
    {
      "cell_type": "code",
      "source": [
        "x = [\"apple\", \"banana\", \"cherry\"] #list\n",
        "print(x, type(x))\n",
        "x = (\"apple\", \"banana\", \"cherry\") #tuple\n",
        "print(x, type(x))\n",
        "x = {\"name\" : \"Tom\", \"age\" : 20} #dict\n",
        "print(x, type(x))\n",
        "x = {\"apple\", \"banana\", \"cherry\"} #set\n",
        "print(x, type(x))"
      ],
      "metadata": {
        "colab": {
          "base_uri": "https://localhost:8080/"
        },
        "id": "azO2r0i40BZV",
        "outputId": "2a84cfd5-7ec2-4b22-d4fc-f937c341a009"
      },
      "execution_count": 49,
      "outputs": [
        {
          "output_type": "stream",
          "name": "stdout",
          "text": [
            "['apple', 'banana', 'cherry'] <class 'list'>\n",
            "('apple', 'banana', 'cherry') <class 'tuple'>\n",
            "{'name': 'Tom', 'age': 20} <class 'dict'>\n",
            "{'apple', 'banana', 'cherry'} <class 'set'>\n"
          ]
        }
      ]
    },
    {
      "cell_type": "code",
      "source": [
        "#List\n",
        "x = [60, 70, 80, 90]\n",
        "print(len(x))\n",
        "print(x[0])\n",
        "print(x[1])\n",
        "print(x[-1])"
      ],
      "metadata": {
        "colab": {
          "base_uri": "https://localhost:8080/"
        },
        "id": "x7-JosNi0PxR",
        "outputId": "86684a38-26dd-4fa5-9612-7a66d5abce46"
      },
      "execution_count": 50,
      "outputs": [
        {
          "output_type": "stream",
          "name": "stdout",
          "text": [
            "4\n",
            "60\n",
            "70\n",
            "90\n"
          ]
        }
      ]
    },
    {
      "cell_type": "code",
      "source": [
        "#Tuple\n",
        "x = (10, 20, 30, 40, 50)\n",
        "print(x[0])\n",
        "print(x[1])\n",
        "print(x[2])\n",
        "print(x[-1])\n"
      ],
      "metadata": {
        "colab": {
          "base_uri": "https://localhost:8080/"
        },
        "id": "y0PJIS5i0UHU",
        "outputId": "5785e48c-2517-4621-ebee-522eeb9b1e89"
      },
      "execution_count": 53,
      "outputs": [
        {
          "output_type": "stream",
          "name": "stdout",
          "text": [
            "10\n",
            "20\n",
            "30\n",
            "50\n"
          ]
        }
      ]
    },
    {
      "cell_type": "code",
      "source": [
        "#sets\n",
        "animals = {'cat', 'dog'}\n",
        "print('cat' in animals)\n",
        "print('fish' in animals)\n",
        "animals.add('fish')\n",
        "print('fish' in animals)\n",
        "print(len(animals))\n",
        "animals.add('cat')\n",
        "print(len(animals))\n",
        "animals.remove('cat')\n",
        "print(len(animals))\n"
      ],
      "metadata": {
        "colab": {
          "base_uri": "https://localhost:8080/"
        },
        "id": "b3n1yRTg0bW5",
        "outputId": "c742c2d1-fbef-4c00-d4ea-55fe706c2a32"
      },
      "execution_count": 52,
      "outputs": [
        {
          "output_type": "stream",
          "name": "stdout",
          "text": [
            "True\n",
            "False\n",
            "True\n",
            "3\n",
            "3\n",
            "2\n"
          ]
        }
      ]
    },
    {
      "cell_type": "code",
      "source": [
        "#Python Dictionary\n",
        "#Key → Value\n",
        "#'EN’ → 'English’\n",
        "#'FR’ → 'French'\n",
        "k = { 'EN':'English'\n",
        ",\n",
        "'FR':'French' }\n",
        "print(k['EN'])"
      ],
      "metadata": {
        "colab": {
          "base_uri": "https://localhost:8080/"
        },
        "id": "DGkN_N3_06H4",
        "outputId": "0a737a4a-d7db-41c8-f4c6-6ccc0596f7ab"
      },
      "execution_count": 55,
      "outputs": [
        {
          "output_type": "stream",
          "name": "stdout",
          "text": [
            "English\n"
          ]
        }
      ]
    },
    {
      "cell_type": "code",
      "source": [
        "#data structure\n",
        "fruits = [\"apple\", \"banana\", \"cherry\"] #lists []\n",
        "print(x, type(x))\n",
        "\n",
        "colors = (\"red\", \"green\", \"blue\") #tuples ()\n",
        "print(x, type(x))\n",
        "animals = {'cat', 'dog'} #sets {}\n",
        "print(x, type(x))\n",
        "person = {\"name\" : \"Tom\", \"age\" : 20} #dictionaries {}\n",
        "print(x, type(x))"
      ],
      "metadata": {
        "colab": {
          "base_uri": "https://localhost:8080/"
        },
        "id": "MeXTLNsi1Oxx",
        "outputId": "69d3463b-bfa6-4ca0-e1ff-1f1fee78c4c3"
      },
      "execution_count": 81,
      "outputs": [
        {
          "output_type": "stream",
          "name": "stdout",
          "text": [
            "frozenset({'apple', 'banana', 'cherry'}) <class 'frozenset'>\n",
            "frozenset({'apple', 'banana', 'cherry'}) <class 'frozenset'>\n",
            "frozenset({'apple', 'banana', 'cherry'}) <class 'frozenset'>\n",
            "frozenset({'apple', 'banana', 'cherry'}) <class 'frozenset'>\n"
          ]
        }
      ]
    },
    {
      "cell_type": "code",
      "source": [
        "# Python Lists\n",
        "expenses = [72.50, 80.75, 50.00, 90.25]\n",
        "total_expenses = sum(expenses)\n",
        "print(\"Total expenses:\", total_expenses)"
      ],
      "metadata": {
        "colab": {
          "base_uri": "https://localhost:8080/"
        },
        "id": "XBQ03i721lUw",
        "outputId": "5c9d34ea-2510-415a-fa04-4274d09f6bb7"
      },
      "execution_count": 60,
      "outputs": [
        {
          "output_type": "stream",
          "name": "stdout",
          "text": [
            "Total expenses: 293.5\n"
          ]
        }
      ]
    },
    {
      "cell_type": "code",
      "source": [
        "# Python Tuples\n",
        "accounts = ((\"Cash\", 1001), (\"Accounts Receivable\", 1002),\n",
        "(\"Inventory\", 1003))\n",
        "for account in accounts:\n",
        " print(\"Account name:\", account[0], \"Account number:\", account[1])"
      ],
      "metadata": {
        "colab": {
          "base_uri": "https://localhost:8080/"
        },
        "id": "-iZWk7sc3P8W",
        "outputId": "db70b131-dfb4-44c9-d35e-34922d2a6214"
      },
      "execution_count": 66,
      "outputs": [
        {
          "output_type": "stream",
          "name": "stdout",
          "text": [
            "Account name: Cash Account number: 1001\n",
            "Account name: Accounts Receivable Account number: 1002\n",
            "Account name: Inventory Account number: 1003\n"
          ]
        }
      ]
    },
    {
      "cell_type": "code",
      "source": [
        "# Python Sets\n",
        "account_numbers = set([acc[1] for acc in accounts]) #set comprehensive\n",
        "print(account_numbers)\n",
        "new_account_number = 1004\n",
        "if new_account_number not in account_numbers:\n",
        "    print(f'Account number {new_account_number} is not in use.')"
      ],
      "metadata": {
        "colab": {
          "base_uri": "https://localhost:8080/"
        },
        "id": "FcV5rZER1sc4",
        "outputId": "7613a336-4b6e-4d90-fa04-8125fc58008c"
      },
      "execution_count": 67,
      "outputs": [
        {
          "output_type": "stream",
          "name": "stdout",
          "text": [
            "{1001, 1002, 1003}\n",
            "Account number 1004 is not in use.\n"
          ]
        }
      ]
    },
    {
      "cell_type": "code",
      "source": [
        "accounts = {\"1001\": {\"name\": \"Cash\", \"balance\": 500.00, \"type\": \"Asset\"},\n",
        "\"1002\": {\"name\": \"Accounts Receivable\", \"balance\": 1000.00, \"type\": \"Asset\"},\n",
        "\"1003\": {\"name\": \"Accounts Payable\", \"balance\": 750.00, \"type\": \"Liability\"}}\n",
        "for account_number, account_info in accounts.items():\n",
        " print('-'*50)\n",
        " print(\"Account number:\", account_number)\n",
        " print(\"Account name:\", account_info[\"name\"])\n",
        " print(\"Account balance:\", account_info[\"balance\"])\n",
        " print(\"Account type:\", account_info[\"type\"])"
      ],
      "metadata": {
        "colab": {
          "base_uri": "https://localhost:8080/"
        },
        "id": "eSPj0aeh3g9h",
        "outputId": "e98e087a-1b9a-4b56-8ae1-590630b439d2"
      },
      "execution_count": 68,
      "outputs": [
        {
          "output_type": "stream",
          "name": "stdout",
          "text": [
            "--------------------------------------------------\n",
            "Account number: 1001\n",
            "Account name: Cash\n",
            "Account balance: 500.0\n",
            "Account type: Asset\n",
            "--------------------------------------------------\n",
            "Account number: 1002\n",
            "Account name: Accounts Receivable\n",
            "Account balance: 1000.0\n",
            "Account type: Asset\n",
            "--------------------------------------------------\n",
            "Account number: 1003\n",
            "Account name: Accounts Payable\n",
            "Account balance: 750.0\n",
            "Account type: Liability\n"
          ]
        }
      ]
    },
    {
      "cell_type": "markdown",
      "source": [
        "## Control logic and Loops"
      ],
      "metadata": {
        "id": "XTo-YZoC4Tzp"
      }
    },
    {
      "cell_type": "code",
      "source": [
        "#if\n",
        "score=80\n",
        "if score>=60:\n",
        "  print(\"Pass\")"
      ],
      "metadata": {
        "colab": {
          "base_uri": "https://localhost:8080/"
        },
        "id": "07aGj8Yh24EY",
        "outputId": "5c9fe4e0-b328-486f-f08f-82fce22d83b9"
      },
      "execution_count": 71,
      "outputs": [
        {
          "output_type": "stream",
          "name": "stdout",
          "text": [
            "Pass\n"
          ]
        }
      ]
    },
    {
      "cell_type": "code",
      "source": [
        "#if\n",
        "score=80\n",
        "if score>=60:\n",
        "  print(\"Pass\")\n",
        "else: #score<60\n",
        "  print('Fail')"
      ],
      "metadata": {
        "colab": {
          "base_uri": "https://localhost:8080/"
        },
        "id": "cjhi0o2z43HL",
        "outputId": "ff35b9d3-8001-4fa7-b113-c46778a353fd"
      },
      "execution_count": 73,
      "outputs": [
        {
          "output_type": "stream",
          "name": "stdout",
          "text": [
            "Pass\n"
          ]
        }
      ]
    },
    {
      "cell_type": "code",
      "source": [
        "#if\n",
        "score=80\n",
        "if score>=90:\n",
        "  print(\"A\")\n",
        "elif score >=60 : # score ,90, >60\n",
        " print(\"Pass\")\n",
        "else:\n",
        " print(\"Fail\")"
      ],
      "metadata": {
        "colab": {
          "base_uri": "https://localhost:8080/"
        },
        "id": "JEWZuVkB5Kiv",
        "outputId": "e0740738-7301-4d22-c339-ab11c98f86ca"
      },
      "execution_count": 74,
      "outputs": [
        {
          "output_type": "stream",
          "name": "stdout",
          "text": [
            "Pass\n"
          ]
        }
      ]
    },
    {
      "cell_type": "code",
      "source": [
        "# Python if elif else\n",
        "score = 90\n",
        "grade = \"\"\n",
        "if score >=90:\n",
        " grade = \"A\"\n",
        "elif score >= 80: #score [80,90)\n",
        " grade = \"B\"\n",
        "elif score >= 70: #score [70,80)\n",
        " grade = \"C\"\n",
        "elif score >= 60: #score [60,70)\n",
        " grade = \"D\"\n",
        "else:\n",
        " grade = \"E\"\n",
        "print(grade)"
      ],
      "metadata": {
        "colab": {
          "base_uri": "https://localhost:8080/"
        },
        "id": "azA-OpT45fta",
        "outputId": "5db23170-9c2c-470e-dae3-d8775cf5b84f"
      },
      "execution_count": 76,
      "outputs": [
        {
          "output_type": "stream",
          "name": "stdout",
          "text": [
            "A\n"
          ]
        }
      ]
    },
    {
      "cell_type": "code",
      "source": [
        "for i in range(1,6):\n",
        " print(i)"
      ],
      "metadata": {
        "colab": {
          "base_uri": "https://localhost:8080/"
        },
        "id": "lMuOwXSl6s5Y",
        "outputId": "d1984d8d-620f-4541-d8d2-02cf0772f0e2"
      },
      "execution_count": 86,
      "outputs": [
        {
          "output_type": "stream",
          "name": "stdout",
          "text": [
            "1\n",
            "2\n",
            "3\n",
            "4\n",
            "5\n"
          ]
        }
      ]
    },
    {
      "cell_type": "code",
      "source": [
        "# for 2 loops\n",
        "for i in range(1,10): #i:1->9\n",
        " for j in range(1,10): #j:1->9\n",
        "  print(f'{i}* {j}={1*j}')\n",
        " print('-'*50)"
      ],
      "metadata": {
        "colab": {
          "base_uri": "https://localhost:8080/"
        },
        "id": "o-i_wfEU6iqH",
        "outputId": "8cf309bc-ab49-468c-ec31-af8a4fde9757"
      },
      "execution_count": 89,
      "outputs": [
        {
          "output_type": "stream",
          "name": "stdout",
          "text": [
            "1* 1=1\n",
            "1* 2=2\n",
            "1* 3=3\n",
            "1* 4=4\n",
            "1* 5=5\n",
            "1* 6=6\n",
            "1* 7=7\n",
            "1* 8=8\n",
            "1* 9=9\n",
            "--------------------------------------------------\n",
            "2* 1=1\n",
            "2* 2=2\n",
            "2* 3=3\n",
            "2* 4=4\n",
            "2* 5=5\n",
            "2* 6=6\n",
            "2* 7=7\n",
            "2* 8=8\n",
            "2* 9=9\n",
            "--------------------------------------------------\n",
            "3* 1=1\n",
            "3* 2=2\n",
            "3* 3=3\n",
            "3* 4=4\n",
            "3* 5=5\n",
            "3* 6=6\n",
            "3* 7=7\n",
            "3* 8=8\n",
            "3* 9=9\n",
            "--------------------------------------------------\n",
            "4* 1=1\n",
            "4* 2=2\n",
            "4* 3=3\n",
            "4* 4=4\n",
            "4* 5=5\n",
            "4* 6=6\n",
            "4* 7=7\n",
            "4* 8=8\n",
            "4* 9=9\n",
            "--------------------------------------------------\n",
            "5* 1=1\n",
            "5* 2=2\n",
            "5* 3=3\n",
            "5* 4=4\n",
            "5* 5=5\n",
            "5* 6=6\n",
            "5* 7=7\n",
            "5* 8=8\n",
            "5* 9=9\n",
            "--------------------------------------------------\n",
            "6* 1=1\n",
            "6* 2=2\n",
            "6* 3=3\n",
            "6* 4=4\n",
            "6* 5=5\n",
            "6* 6=6\n",
            "6* 7=7\n",
            "6* 8=8\n",
            "6* 9=9\n",
            "--------------------------------------------------\n",
            "7* 1=1\n",
            "7* 2=2\n",
            "7* 3=3\n",
            "7* 4=4\n",
            "7* 5=5\n",
            "7* 6=6\n",
            "7* 7=7\n",
            "7* 8=8\n",
            "7* 9=9\n",
            "--------------------------------------------------\n",
            "8* 1=1\n",
            "8* 2=2\n",
            "8* 3=3\n",
            "8* 4=4\n",
            "8* 5=5\n",
            "8* 6=6\n",
            "8* 7=7\n",
            "8* 8=8\n",
            "8* 9=9\n",
            "--------------------------------------------------\n",
            "9* 1=1\n",
            "9* 2=2\n",
            "9* 3=3\n",
            "9* 4=4\n",
            "9* 5=5\n",
            "9* 6=6\n",
            "9* 7=7\n",
            "9* 8=8\n",
            "9* 9=9\n",
            "--------------------------------------------------\n"
          ]
        }
      ]
    }
  ]
}